{
 "cells": [
  {
   "cell_type": "markdown",
   "metadata": {},
   "source": [
    "# Pokerman Data Analysis"
   ]
  },
  {
   "cell_type": "code",
   "execution_count": 2,
   "metadata": {},
   "outputs": [
    {
     "name": "stdout",
     "output_type": "stream",
     "text": [
      "'data.frame':\t800 obs. of  13 variables:\n",
      " $ X.        : int  1 2 3 3 4 5 6 6 6 7 ...\n",
      " $ Name      : Factor w/ 800 levels \"Abomasnow\",\"AbomasnowMega Abomasnow\",..: 81 330 746 747 103 104 100 101 102 666 ...\n",
      " $ Type.1    : Factor w/ 18 levels \"Bug\",\"Dark\",\"Dragon\",..: 10 10 10 10 7 7 7 7 7 18 ...\n",
      " $ Type.2    : Factor w/ 18 levels \"Bug\",\"Dark\",\"Dragon\",..: 14 14 14 14 NA NA 8 3 8 NA ...\n",
      " $ Total     : int  318 405 525 625 309 405 534 634 634 314 ...\n",
      " $ HP        : int  45 60 80 80 39 58 78 78 78 44 ...\n",
      " $ Attack    : int  49 62 82 100 52 64 84 130 104 48 ...\n",
      " $ Defense   : int  49 63 83 123 43 58 78 111 78 65 ...\n",
      " $ Sp..Atk   : int  65 80 100 122 60 80 109 130 159 50 ...\n",
      " $ Sp..Def   : int  65 80 100 120 50 65 85 85 115 64 ...\n",
      " $ Speed     : int  45 60 80 80 65 80 100 100 100 43 ...\n",
      " $ Generation: int  1 1 1 1 1 1 1 1 1 1 ...\n",
      " $ Legendary : logi  FALSE FALSE FALSE FALSE FALSE FALSE ...\n"
     ]
    }
   ],
   "source": [
    "# Load in the data\n",
    "Pokerman=read.csv(file=\"E:/Xu/Cornell/STSCI4740_SL/Project/Pokemon.csv\",head=TRUE,na.strings=c(\"\"))\n",
    "# Get the general information of the dataframe\n",
    "str(Pokerman)\n",
    "attach(Pokerman)"
   ]
  },
  {
   "cell_type": "code",
   "execution_count": 3,
   "metadata": {},
   "outputs": [
    {
     "data": {
      "text/html": [
       "<dl class=dl-horizontal>\n",
       "\t<dt>X.</dt>\n",
       "\t\t<dd>0</dd>\n",
       "\t<dt>Name</dt>\n",
       "\t\t<dd>0</dd>\n",
       "\t<dt>Type.1</dt>\n",
       "\t\t<dd>1</dd>\n",
       "\t<dt>Type.2</dt>\n",
       "\t\t<dd>386</dd>\n",
       "\t<dt>Total</dt>\n",
       "\t\t<dd>0</dd>\n",
       "\t<dt>HP</dt>\n",
       "\t\t<dd>0</dd>\n",
       "\t<dt>Attack</dt>\n",
       "\t\t<dd>0</dd>\n",
       "\t<dt>Defense</dt>\n",
       "\t\t<dd>0</dd>\n",
       "\t<dt>Sp..Atk</dt>\n",
       "\t\t<dd>0</dd>\n",
       "\t<dt>Sp..Def</dt>\n",
       "\t\t<dd>0</dd>\n",
       "\t<dt>Speed</dt>\n",
       "\t\t<dd>0</dd>\n",
       "\t<dt>Generation</dt>\n",
       "\t\t<dd>0</dd>\n",
       "\t<dt>Legendary</dt>\n",
       "\t\t<dd>0</dd>\n",
       "</dl>\n"
      ],
      "text/latex": [
       "\\begin{description*}\n",
       "\\item[X.] 0\n",
       "\\item[Name] 0\n",
       "\\item[Type.1] 1\n",
       "\\item[Type.2] 386\n",
       "\\item[Total] 0\n",
       "\\item[HP] 0\n",
       "\\item[Attack] 0\n",
       "\\item[Defense] 0\n",
       "\\item[Sp..Atk] 0\n",
       "\\item[Sp..Def] 0\n",
       "\\item[Speed] 0\n",
       "\\item[Generation] 0\n",
       "\\item[Legendary] 0\n",
       "\\end{description*}\n"
      ],
      "text/markdown": [
       "X.\n",
       ":   0Name\n",
       ":   0Type.1\n",
       ":   1Type.2\n",
       ":   386Total\n",
       ":   0HP\n",
       ":   0Attack\n",
       ":   0Defense\n",
       ":   0Sp..Atk\n",
       ":   0Sp..Def\n",
       ":   0Speed\n",
       ":   0Generation\n",
       ":   0Legendary\n",
       ":   0\n",
       "\n"
      ],
      "text/plain": [
       "        X.       Name     Type.1     Type.2      Total         HP     Attack \n",
       "         0          0          1        386          0          0          0 \n",
       "   Defense    Sp..Atk    Sp..Def      Speed Generation  Legendary \n",
       "         0          0          0          0          0          0 "
      ]
     },
     "metadata": {},
     "output_type": "display_data"
    },
    {
     "data": {
      "text/html": [
       "<dl class=dl-horizontal>\n",
       "\t<dt>X.</dt>\n",
       "\t\t<dd>721</dd>\n",
       "\t<dt>Name</dt>\n",
       "\t\t<dd>800</dd>\n",
       "\t<dt>Type.1</dt>\n",
       "\t\t<dd>19</dd>\n",
       "\t<dt>Type.2</dt>\n",
       "\t\t<dd>19</dd>\n",
       "\t<dt>Total</dt>\n",
       "\t\t<dd>200</dd>\n",
       "\t<dt>HP</dt>\n",
       "\t\t<dd>94</dd>\n",
       "\t<dt>Attack</dt>\n",
       "\t\t<dd>111</dd>\n",
       "\t<dt>Defense</dt>\n",
       "\t\t<dd>103</dd>\n",
       "\t<dt>Sp..Atk</dt>\n",
       "\t\t<dd>105</dd>\n",
       "\t<dt>Sp..Def</dt>\n",
       "\t\t<dd>92</dd>\n",
       "\t<dt>Speed</dt>\n",
       "\t\t<dd>108</dd>\n",
       "\t<dt>Generation</dt>\n",
       "\t\t<dd>6</dd>\n",
       "\t<dt>Legendary</dt>\n",
       "\t\t<dd>2</dd>\n",
       "</dl>\n"
      ],
      "text/latex": [
       "\\begin{description*}\n",
       "\\item[X.] 721\n",
       "\\item[Name] 800\n",
       "\\item[Type.1] 19\n",
       "\\item[Type.2] 19\n",
       "\\item[Total] 200\n",
       "\\item[HP] 94\n",
       "\\item[Attack] 111\n",
       "\\item[Defense] 103\n",
       "\\item[Sp..Atk] 105\n",
       "\\item[Sp..Def] 92\n",
       "\\item[Speed] 108\n",
       "\\item[Generation] 6\n",
       "\\item[Legendary] 2\n",
       "\\end{description*}\n"
      ],
      "text/markdown": [
       "X.\n",
       ":   721Name\n",
       ":   800Type.1\n",
       ":   19Type.2\n",
       ":   19Total\n",
       ":   200HP\n",
       ":   94Attack\n",
       ":   111Defense\n",
       ":   103Sp..Atk\n",
       ":   105Sp..Def\n",
       ":   92Speed\n",
       ":   108Generation\n",
       ":   6Legendary\n",
       ":   2\n",
       "\n"
      ],
      "text/plain": [
       "        X.       Name     Type.1     Type.2      Total         HP     Attack \n",
       "       721        800         19         19        200         94        111 \n",
       "   Defense    Sp..Atk    Sp..Def      Speed Generation  Legendary \n",
       "       103        105         92        108          6          2 "
      ]
     },
     "metadata": {},
     "output_type": "display_data"
    },
    {
     "name": "stderr",
     "output_type": "stream",
     "text": [
      "Warning message:\n",
      "\"package 'Amelia' was built under R version 3.4.2\"Loading required package: Rcpp\n",
      "## \n",
      "## Amelia II: Multiple Imputation\n",
      "## (Version 1.7.4, built: 2015-12-05)\n",
      "## Copyright (C) 2005-2017 James Honaker, Gary King and Matthew Blackwell\n",
      "## Refer to http://gking.harvard.edu/amelia/ for more information\n",
      "## \n"
     ]
    },
    {
     "data": {
      "image/png": "[encoded data removed]",
      "text/plain": [
       "Plot with title \"Missing values vs observed\""
      ]
     },
     "metadata": {},
     "output_type": "display_data"
    }
   ],
   "source": [
    "# Missing Value Check\n",
    "# Check for the missing values and  look how many unique values there are for each variable using the sapply()\n",
    "sapply(Pokerman,function(x) sum(is.na(x)))\n",
    "# Summarize the unique values \n",
    "sapply(Pokerman, function(x) length(unique(x)))\n",
    "# Make a visual take on the missing values\n",
    "library(Amelia)\n",
    "missmap(Pokerman, main = \"Missing values vs observed\")\n",
    "# Deal with the missing value\n",
    "Pokerman$Type.1[is.na(Pokerman$Type.1)]=\"Poison\""
   ]
  },
  {
   "cell_type": "code",
   "execution_count": 4,
   "metadata": {},
   "outputs": [
    {
     "data": {
      "text/plain": [
       "\n",
       "Call:\n",
       "glm(formula = Legendary ~ HP + Attack + Defense + Sp..Atk + Sp..Def + \n",
       "    Speed + Generation, family = binomial(link = \"logit\"), data = train)\n",
       "\n",
       "Deviance Residuals: \n",
       "     Min        1Q    Median        3Q       Max  \n",
       "-2.04295  -0.12190  -0.02940  -0.00458   2.34271  \n",
       "\n",
       "Coefficients:\n",
       "              Estimate Std. Error z value Pr(>|z|)    \n",
       "(Intercept) -23.512428   3.112061  -7.555 4.18e-14 ***\n",
       "HP            0.035868   0.009968   3.598  0.00032 ***\n",
       "Attack        0.008551   0.008059   1.061  0.28865    \n",
       "Defense       0.033869   0.010988   3.082  0.00205 ** \n",
       "Sp..Atk       0.033504   0.008585   3.903 9.51e-05 ***\n",
       "Sp..Def       0.047308   0.011524   4.105 4.04e-05 ***\n",
       "Speed         0.057315   0.011923   4.807 1.53e-06 ***\n",
       "Generation    0.416873   0.204519   2.038  0.04152 *  \n",
       "---\n",
       "Signif. codes:  0 '***' 0.001 '**' 0.01 '*' 0.05 '.' 0.1 ' ' 1\n",
       "\n",
       "(Dispersion parameter for binomial family taken to be 1)\n",
       "\n",
       "    Null deviance: 315.27  on 639  degrees of freedom\n",
       "Residual deviance: 119.28  on 632  degrees of freedom\n",
       "AIC: 135.28\n",
       "\n",
       "Number of Fisher Scoring iterations: 8\n"
      ]
     },
     "metadata": {},
     "output_type": "display_data"
    },
    {
     "data": {
      "text/html": [
       "<table>\n",
       "<thead><tr><th></th><th scope=col>Df</th><th scope=col>Deviance</th><th scope=col>Resid. Df</th><th scope=col>Resid. Dev</th><th scope=col>Pr(&gt;Chi)</th></tr></thead>\n",
       "<tbody>\n",
       "\t<tr><th scope=row>NULL</th><td>NA          </td><td>       NA   </td><td>639         </td><td>315.2670    </td><td>          NA</td></tr>\n",
       "\t<tr><th scope=row>HP</th><td> 1          </td><td>29.011004   </td><td>638         </td><td>286.2560    </td><td>7.196833e-08</td></tr>\n",
       "\t<tr><th scope=row>Attack</th><td> 1          </td><td>34.857592   </td><td>637         </td><td>251.3984    </td><td>3.547237e-09</td></tr>\n",
       "\t<tr><th scope=row>Defense</th><td> 1          </td><td>12.819253   </td><td>636         </td><td>238.5792    </td><td>3.430707e-04</td></tr>\n",
       "\t<tr><th scope=row>Sp..Atk</th><td> 1          </td><td>62.021389   </td><td>635         </td><td>176.5578    </td><td>3.397470e-15</td></tr>\n",
       "\t<tr><th scope=row>Sp..Def</th><td> 1          </td><td>21.731185   </td><td>634         </td><td>154.8266    </td><td>3.136509e-06</td></tr>\n",
       "\t<tr><th scope=row>Speed</th><td> 1          </td><td>31.123425   </td><td>633         </td><td>123.7032    </td><td>2.421316e-08</td></tr>\n",
       "\t<tr><th scope=row>Generation</th><td> 1          </td><td> 4.418883   </td><td>632         </td><td>119.2843    </td><td>3.554330e-02</td></tr>\n",
       "</tbody>\n",
       "</table>\n"
      ],
      "text/latex": [
       "\\begin{tabular}{r|lllll}\n",
       "  & Df & Deviance & Resid. Df & Resid. Dev & Pr(>Chi)\\\\\n",
       "\\hline\n",
       "\tNULL & NA           &        NA    & 639          & 315.2670     &           NA\\\\\n",
       "\tHP &  1           & 29.011004    & 638          & 286.2560     & 7.196833e-08\\\\\n",
       "\tAttack &  1           & 34.857592    & 637          & 251.3984     & 3.547237e-09\\\\\n",
       "\tDefense &  1           & 12.819253    & 636          & 238.5792     & 3.430707e-04\\\\\n",
       "\tSp..Atk &  1           & 62.021389    & 635          & 176.5578     & 3.397470e-15\\\\\n",
       "\tSp..Def &  1           & 21.731185    & 634          & 154.8266     & 3.136509e-06\\\\\n",
       "\tSpeed &  1           & 31.123425    & 633          & 123.7032     & 2.421316e-08\\\\\n",
       "\tGeneration &  1           &  4.418883    & 632          & 119.2843     & 3.554330e-02\\\\\n",
       "\\end{tabular}\n"
      ],
      "text/markdown": [
       "\n",
       "| <!--/--> | Df | Deviance | Resid. Df | Resid. Dev | Pr(>Chi) | \n",
       "|---|---|---|---|---|---|---|---|\n",
       "| NULL | NA           |        NA    | 639          | 315.2670     |           NA | \n",
       "| HP |  1           | 29.011004    | 638          | 286.2560     | 7.196833e-08 | \n",
       "| Attack |  1           | 34.857592    | 637          | 251.3984     | 3.547237e-09 | \n",
       "| Defense |  1           | 12.819253    | 636          | 238.5792     | 3.430707e-04 | \n",
       "| Sp..Atk |  1           | 62.021389    | 635          | 176.5578     | 3.397470e-15 | \n",
       "| Sp..Def |  1           | 21.731185    | 634          | 154.8266     | 3.136509e-06 | \n",
       "| Speed |  1           | 31.123425    | 633          | 123.7032     | 2.421316e-08 | \n",
       "| Generation |  1           |  4.418883    | 632          | 119.2843     | 3.554330e-02 | \n",
       "\n",
       "\n"
      ],
      "text/plain": [
       "           Df Deviance  Resid. Df Resid. Dev Pr(>Chi)    \n",
       "NULL       NA        NA 639       315.2670             NA\n",
       "HP          1 29.011004 638       286.2560   7.196833e-08\n",
       "Attack      1 34.857592 637       251.3984   3.547237e-09\n",
       "Defense     1 12.819253 636       238.5792   3.430707e-04\n",
       "Sp..Atk     1 62.021389 635       176.5578   3.397470e-15\n",
       "Sp..Def     1 21.731185 634       154.8266   3.136509e-06\n",
       "Speed       1 31.123425 633       123.7032   2.421316e-08\n",
       "Generation  1  4.418883 632       119.2843   3.554330e-02"
      ]
     },
     "metadata": {},
     "output_type": "display_data"
    }
   ],
   "source": [
    "# Build a simple logstic regression model to classify the property of legerndary\n",
    "# Split the data into training and testing \n",
    "train=Pokerman[1:640,]\n",
    "test=Pokerman[641:800,]\n",
    "# Fit a logistic regression model on the Legendary Variable to answer the question 2 \n",
    "logmodel <- glm(Legendary~HP+Attack+Defense+Sp..Atk+Sp..Def+Speed+Generation,family=binomial(link='logit'),data=train)\n",
    "summary(logmodel)\n",
    "# Interpret the results of logistic regression model\n",
    "# First of all the Attack variable is not statistically significant\n",
    "# All the coefficients are positive,which means the higher the attributes, the more likely a poker man is going to be a legendary\n",
    "anova(logmodel,test=\"Chisq\")"
   ]
  },
  {
   "cell_type": "code",
   "execution_count": null,
   "metadata": {
    "collapsed": true
   },
   "outputs": [],
   "source": []
  }
 ],
 "metadata": {
  "kernelspec": {
   "display_name": "R",
   "language": "R",
   "name": "ir"
  },
  "language_info": {
   "codemirror_mode": "r",
   "file_extension": ".r",
   "mimetype": "text/x-r-source",
   "name": "R",
   "pygments_lexer": "r",
   "version": "3.4.1"
  }
 },
 "nbformat": 4,
 "nbformat_minor": 2
}
